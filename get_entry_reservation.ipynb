{
  "cells": [
    {
      "cell_type": "markdown",
      "source": [
        "# Input Cookies"
      ],
      "metadata": {
        "id": "Ix1ePk_HgouY"
      }
    },
    {
      "cell_type": "code",
      "execution_count": null,
      "metadata": {
        "id": "b98thMdhQQ-8"
      },
      "outputs": [],
      "source": [
        "cookies = {\n",
        "    '__lt__cid': '5b5d3611-4246-47da-a426-fab19d5167b1',\n",
        "    '__lt__sid': '34f70d0c-1305710a',\n",
        "    '_fbp': 'fb.2.1759160179308.71906476786345939',\n",
        "    '_ga': 'GA1.4.274738429.1759160179',\n",
        "    '_ga': 'GA1.1.274738429.1759160179',\n",
        "    '_ga_JSJ77CR4LH': 'GS2.1.s1759715634$o14$g1$t1759715659$j35$l0$h0',\n",
        "    '_gat_UA-138055626-1': '1',\n",
        "    '_gcl_au': '1.1.688477002.1759160179',\n",
        "    '_gid': 'GA1.3.1523821141.1759490953',\n",
        "    '_gid': 'GA1.4.1523821141.1759490953',\n",
        "    '_yjsu_yjad': '1759160179.3323d0fc-fe73-4092-9833-2d4fd12814f3',\n",
        "    'has_redirected': 'FALSE',\n",
        "    'OptanonAlertBoxClosed': '2025-09-29T15:39:32.295Z',\n",
        "    'OptanonAlertBoxClosed': '2025-10-05T15:11:36.675Z',\n",
        "    'OptanonConsent': 'isGpcEnabled=0&datestamp=Mon+Oct+06+2025+09%3A53%3A54+GMT%2B0800+(%E9%A6%99%E6%B8%AF%E6%A8%99%E6%BA%96%E6%99%82%E9%96%93)&version=6.33.0&isIABGlobal=false&hosts=&consentId=33f25ca8-45d1-4b3b-991f-8ad080b26b4e&interactionCount=2&landingPath=NotLandingPage&groups=C0004%3A0%2CC0001%3A1%2CC0002%3A0&AwaitingReconsent=false&geolocation=HK%3B',\n",
        "    'OptanonConsent': 'isGpcEnabled=0&datestamp=Mon+Oct+06+2025+09%3A54%3A20+GMT%2B0800+(%E9%A6%99%E6%B8%AF%E6%A8%99%E6%BA%96%E6%99%82%E9%96%93)&version=202303.2.0&isIABGlobal=false&hosts=&consentId=33f25ca8-45d1-4b3b-991f-8ad080b26b4e&interactionCount=2&landingPath=NotLandingPage&groups=C0004%3A0%2CC0001%3A1%2CC0002%3A0&AwaitingReconsent=false&geolocation=HK%3B',\n",
        "    'q_i_t_u_i': 'referrer_https%3A%2F%2Fwww.expo2025.or.jp%2F~cookiedomain_expo2025.or.jp',\n",
        "    'QueueITAccepted-SDFrts345E-V3_gpreservationa': 'EventId%3Dgpreservationa%26QueueId%3Dundefined%26RedirectType%3Dsafetynet%26IssueTime%3D1759704092%26Hash%3D1a504691436d3c64c656e7c8a07ffd73fdc3ee75bd3d240e88aa396cbda96935',\n",
        "    'QueueITAccepted-SDFrts345E-V3_ticket0001a': 'EventId%3Dticket0001a%26QueueId%3Dundefined%26RedirectType%3Dsafetynet%26IssueTime%3D1759715659%26Hash%3Dbc7123c12a9bab2bbbb5b5fc570a9364bed86d1eb4aa5c3761c3f16655863261',\n",
        "    'session_id': '6911617e01ec36efe9b328a08ba89fbbb4e928c679cba24f004750cafa3a631e',\n",
        "    }"
      ]
    },
    {
      "cell_type": "code",
      "execution_count": null,
      "metadata": {
        "id": "esJwYViOzYqy"
      },
      "outputs": [],
      "source": [
        "cookies_check_vacancies = {\n",
        "    'session_id': '451b1632188dff7db5cf695333fef5d0b786ee903360f015857ae9ad3fc2e173'\n",
        "}"
      ]
    },
    {
      "cell_type": "markdown",
      "metadata": {
        "id": "NIx30QbbbSaW"
      },
      "source": [
        "# Define Functions"
      ]
    },
    {
      "cell_type": "markdown",
      "metadata": {
        "id": "rUt1_plO9HOb"
      },
      "source": [
        "## Get Vacancies Info"
      ]
    },
    {
      "cell_type": "code",
      "execution_count": null,
      "metadata": {
        "id": "PQmZvpXo6Hrl"
      },
      "outputs": [],
      "source": [
        "import requests\n",
        "#from bs4 import BeautifulSoup as soup\n",
        "from datetime import date, datetime, timedelta\n",
        "import pytz\n",
        "import time"
      ]
    },
    {
      "cell_type": "code",
      "execution_count": null,
      "metadata": {
        "id": "D_XbAwd4InOT"
      },
      "outputs": [],
      "source": [
        "import json"
      ]
    },
    {
      "cell_type": "code",
      "execution_count": null,
      "metadata": {
        "id": "NX4W_lcQ6R-O"
      },
      "outputs": [],
      "source": [
        "headers = {\n",
        "  'User-Agent':'Mozilla/5.0 (Windows NT 10.0; Win64; x64) AppleWebKit/537.36 (KHTML, like Gecko) Chrome/136.0.0.0 Safari/537.36',\n",
        "  'Accept': 'application/json, text/plain, */*',\n",
        "  'Accept-Encoding': 'gzip, deflate, br, zstd',\n",
        "  'Accept-Language': 'zh-TW,zh;q=0.9,en-US;q=0.8,en;q=0.7',\n",
        "}"
      ]
    },
    {
      "cell_type": "code",
      "execution_count": null,
      "metadata": {
        "id": "bg9vwON4bdL8"
      },
      "outputs": [],
      "source": [
        "def get_schedule(month, cookies, headers=headers):\n",
        "  url = f'https://ticket.expo2025.or.jp/api/d/schedules/2025/{month}'\n",
        "  response = requests.get(url, headers = headers, cookies=cookies)\n",
        "  if response.status_code == 200:\n",
        "    schedule = response.json()\n",
        "    return schedule\n",
        "  else:\n",
        "    raise ValueError(f'Get Schedule Failed: {response.status_code} {response.content}')\n",
        "    return None"
      ]
    },
    {
      "cell_type": "code",
      "execution_count": null,
      "metadata": {
        "id": "7K1KpDBCSQp6"
      },
      "outputs": [],
      "source": [
        "def get_vacancies_list(month, cookies, target_dates=None, target_timeslots=None):\n",
        "  schedule = get_schedule(month,cookies)\n",
        "  if schedule is not None:\n",
        "    vacancies = [\n",
        "        {\n",
        "            'start_time': timeslot_code,\n",
        "            'gate_type': gate,\n",
        "            'entrance_date': f'2025{'0'+str(month) if month < 10 else str(month)}{date}'\n",
        "        }\n",
        "        # whole month --> date\n",
        "        for date, daily_schedule in schedule['states'].items()\n",
        "        if int(daily_schedule['date_state'])<=1 and (target_dates is None or date in target_dates)#(date in target_dates if target_dates is None else True)\n",
        "        # date --> gate\n",
        "        for gate, timeslot in daily_schedule.items()\n",
        "        if gate != 'date_state'\n",
        "        # gate --> timeslot\n",
        "        for timeslot_code, details in timeslot.items()\n",
        "        if details['time_state'] <= 1 and (target_timeslots is None or details['schedule_name'][:-1] in target_timeslots)#(details['schedule_name'][:-1] in target_timeslots if target_timeslots is None else True)\n",
        "        ]\n",
        "    return vacancies"
      ]
    },
    {
      "cell_type": "code",
      "execution_count": null,
      "metadata": {
        "id": "RCRjp_HTYGGS"
      },
      "outputs": [],
      "source": [
        "def get_vacancies_list_with_ticket_ids(ticket_ids, month, cookies, target_dates=None, target_timeslots=None):\n",
        "  schedule = get_schedule(month,cookies)\n",
        "  if schedule is not None:\n",
        "    vacancies = [\n",
        "        {\n",
        "            'ticket_ids': ticket_ids,\n",
        "            'start_time': timeslot_code,\n",
        "            'gate_type': gate,\n",
        "            'entrance_date': f'2025{'0'+str(month) if month < 10 else str(month)}{date}'\n",
        "        }\n",
        "        # whole month --> date\n",
        "        for date, daily_schedule in schedule['states'].items()\n",
        "        if int(daily_schedule['date_state'])<=1 and (target_dates is None or date in target_dates)#(date in target_dates if target_dates is None else True)\n",
        "        # date --> gate\n",
        "        for gate, timeslot in daily_schedule.items()\n",
        "        if gate != 'date_state'\n",
        "        # gate --> timeslot\n",
        "        for timeslot_code, details in timeslot.items()\n",
        "        if details['time_state'] <= 1 and (target_timeslots is None or details['schedule_name'][:-1] in target_timeslots)#(details['schedule_name'][:-1] in target_timeslots if target_timeslots is None else True)\n",
        "        ]\n",
        "    return vacancies"
      ]
    },
    {
      "cell_type": "code",
      "source": [
        "def get_vacancies_list_with_reservation_ids(reservation_id, month, cookies, target_dates=None, target_timeslots=None):\n",
        "  schedule = get_schedule(month,cookies)\n",
        "  if schedule is not None:\n",
        "    vacancies = [\n",
        "        {\n",
        "            'user_visiting_reservation_ids': reservation_id,\n",
        "            'start_time': timeslot_code,\n",
        "            'gate_type': gate,\n",
        "            'entrance_date': f'2025{'0'+str(month) if month < 10 else str(month)}{date}'\n",
        "        }\n",
        "        # whole month --> date\n",
        "        for date, daily_schedule in schedule['states'].items()\n",
        "        if int(daily_schedule['date_state'])<=1 and (target_dates is None or date in target_dates)#(date in target_dates if target_dates is None else True)\n",
        "        # date --> gate\n",
        "        for gate, timeslot in daily_schedule.items()\n",
        "        if gate != 'date_state'\n",
        "        # gate --> timeslot\n",
        "        for timeslot_code, details in timeslot.items()\n",
        "        if details['time_state'] <= 1 and (target_timeslots is None or details['schedule_name'][:-1] in target_timeslots)#(details['schedule_name'][:-1] in target_timeslots if target_timeslots is None else True)\n",
        "        ]\n",
        "    return vacancies"
      ],
      "metadata": {
        "id": "a1BcjhzEqa4i"
      },
      "execution_count": null,
      "outputs": []
    },
    {
      "cell_type": "markdown",
      "metadata": {
        "id": "9aM1KjzY9JbQ"
      },
      "source": [
        "## Make Reservation"
      ]
    },
    {
      "cell_type": "markdown",
      "metadata": {
        "id": "CFcsyjHo9U_r"
      },
      "source": [
        "Post Request\n",
        "request url: https://ticket.expo2025.or.jp/api/d/user_visiting_reservations  \n",
        "request payload: {ticket_ids: [\"PJGAPPG5FS\"], start_time: \"1100\", gate_type: \"1\", entrance_date: \"20251009\"}\n",
        "\n",
        "\n",
        "No Vacancies\n",
        "status code: 422 (Unprocessable Content)  \n",
        "response: {\"error\":{\"name\":\"stock_not_available\",\"message\":\"在庫の取得に失敗しました。\"}}  \n"
      ]
    },
    {
      "cell_type": "code",
      "execution_count": null,
      "metadata": {
        "id": "zmk0Y8BV-0_N"
      },
      "outputs": [],
      "source": [
        "def get_payload_json(ticket_ids, vacancies):\n",
        "  sorted_vacancies = sorted(vacancies, key=lambda x: (x['start_time'],x['gate_type']*-1))\n",
        "  for timeslot in sorted_vacancies:\n",
        "    timeslot.update({'ticket_ids': ticket_ids})\n",
        "  return sorted_vacancies"
      ]
    },
    {
      "cell_type": "code",
      "execution_count": null,
      "metadata": {
        "id": "-AqAW4LEZ9P9"
      },
      "outputs": [],
      "source": [
        "def grab_vacancies(payload, cookies):\n",
        "  url = 'https://ticket.expo2025.or.jp/api/d/user_visiting_reservations'\n",
        "  response = requests.post(url, cookies=cookies, json=payload)\n",
        "  print(f'{response.status_code}, {response.reason} [{datetime.now(pytz.timezone('Asia/Hong_Kong'))}]')\n",
        "  print(response.content)\n",
        "  status_code = response.status_code\n",
        "  return status_code"
      ]
    },
    {
      "cell_type": "code",
      "source": [
        "def change_reservation(payload, cookies):\n",
        "  url = 'https://ticket.expo2025.or.jp/api/d/user_visiting_reservations'\n",
        "  response = requests.put(url, cookies=cookies, json=payload)\n",
        "  print(f'{response.status_code}, {response.reason} [{datetime.now(pytz.timezone('Asia/Hong_Kong'))}]')\n",
        "  print(response.content)\n",
        "  status_code = response.status_code\n",
        "  return status_code"
      ],
      "metadata": {
        "id": "SC6LEv5CuOf4"
      },
      "execution_count": null,
      "outputs": []
    },
    {
      "cell_type": "code",
      "execution_count": null,
      "metadata": {
        "id": "zpS7n7ZNgO63"
      },
      "outputs": [],
      "source": [
        "def check_and_grab(ticket_ids, month, cookies, cookies_check_vacancies, target_dates=None, target_timeslots=None, run_time = 1):\n",
        "  status_code = 0\n",
        "  error_count = 0\n",
        "  get_vacancies_error = 0\n",
        "  gotcha = False\n",
        "  previous_payloads = []\n",
        "  stop_time = datetime.now(pytz.timezone('Asia/Hong_Kong')) + timedelta(minutes=run_time)\n",
        "\n",
        "  # use other account (hence difference cookies) for frequently checking vacancies\n",
        "  # cookies_check_vacancies = cookies if cookies_check_vacancies is None else cookies_check_vacancies\n",
        "\n",
        "  while datetime.now(pytz.timezone('Asia/Hong_Kong')) <= stop_time:\n",
        "\n",
        "    try:\n",
        "      payloads = get_vacancies_list_with_ticket_ids(ticket_ids, month, cookies_check_vacancies, target_dates=target_dates, target_timeslots=target_timeslots)\n",
        "      get_vacancies_error = 0\n",
        "    except ValueError:\n",
        "      get_vacancies_error += 1\n",
        "      if get_vacancies_error >5:\n",
        "        print('Continuous Vacancies Error: Break.')\n",
        "        break\n",
        "      else:\n",
        "        print(f'Vancancies Error: {get_vacancies_error}')\n",
        "        time.sleep(5)\n",
        "      continue\n",
        "\n",
        "    if len(payloads) == 0 or previous_payloads == payloads: # if previous payloads = current payloads : not yet updated\n",
        "      #print(f'Full [{datetime.now(pytz.timezone('Asia/Hong_Kong'))}]')\n",
        "      continue\n",
        "\n",
        "    for payload in payloads:\n",
        "      status_code = grab_vacancies(payload, cookies)\n",
        "      print(f'{status_code} {payload}')\n",
        "      if status_code == 200:\n",
        "        gotcha = True\n",
        "        break\n",
        "      elif status_code == 422:\n",
        "        error_count = 0 # reset error count --> not continuous error\n",
        "        time.sleep(2)\n",
        "        continue\n",
        "      else:\n",
        "        print(f'Unexpected status code {status_code}.')\n",
        "        error_count += 1\n",
        "        if error_count > 2:\n",
        "          break\n",
        "        time.sleep(1)\n",
        "    if gotcha == True:\n",
        "      break\n",
        "    previous_payloads = payloads"
      ]
    },
    {
      "cell_type": "code",
      "source": [
        "def check_and_change_reservation(reservation_id, month, cookies, cookies_check_vacancies, target_dates=None, target_timeslots=None, run_time = 1):\n",
        "  status_code = 0\n",
        "  error_count = 0\n",
        "  get_vacancies_error = 0\n",
        "  gotcha = False\n",
        "  previous_payloads = []\n",
        "  stop_time = datetime.now(pytz.timezone('Asia/Hong_Kong')) + timedelta(minutes=run_time)\n",
        "\n",
        "  # use other account (hence difference cookies) for frequently checking vacancies\n",
        "  # cookies_check_vacancies = cookies if cookies_check_vacancies is None else cookies_check_vacancies\n",
        "\n",
        "  while datetime.now(pytz.timezone('Asia/Hong_Kong')) <= stop_time:\n",
        "\n",
        "    try:\n",
        "      payloads = get_vacancies_list_with_reservation_ids(reservation_id, month, cookies_check_vacancies, target_dates=target_dates, target_timeslots=target_timeslots)\n",
        "      get_vacancies_error = 0\n",
        "    except ValueError:\n",
        "      get_vacancies_error += 1\n",
        "      if get_vacancies_error >5:\n",
        "        print('Continuous Vacancies Error: Break.')\n",
        "        break\n",
        "      else:\n",
        "        print(f'Vancancies Error: {get_vacancies_error}')\n",
        "        time.sleep(5)\n",
        "      continue\n",
        "\n",
        "    if len(payloads) == 0 or previous_payloads == payloads: # if previous payloads = current payloads : not yet updated\n",
        "      #print(f'Full [{datetime.now(pytz.timezone('Asia/Hong_Kong'))}]- {payloads}')\n",
        "      continue\n",
        "\n",
        "    for payload in payloads:\n",
        "      status_code = change_reservation(payload, cookies)\n",
        "      print(f'{status_code} {payload}')\n",
        "      if status_code == 200:\n",
        "        gotcha = True\n",
        "        break\n",
        "      elif status_code == 422:\n",
        "        error_count = 0 # reset error count --> not continuous error\n",
        "        time.sleep(2)\n",
        "        continue\n",
        "      else:\n",
        "        print(f'Unexpected status code {status_code}.')\n",
        "        error_count += 1\n",
        "        if error_count > 2:\n",
        "          break\n",
        "        time.sleep(1)\n",
        "    if gotcha == True:\n",
        "      break\n",
        "    previous_payloads = payloads"
      ],
      "metadata": {
        "id": "gaWQ8a-Fq2Q8"
      },
      "execution_count": null,
      "outputs": []
    },
    {
      "cell_type": "markdown",
      "metadata": {
        "id": "XvR3EqgB3aDs"
      },
      "source": [
        "# Run"
      ]
    },
    {
      "cell_type": "markdown",
      "source": [
        "Ticket to be changed slot\n",
        "| Ticket ID | Current Entrance Slot | Reservation ID | Expo Ac |\n",
        "|---|---|---|---|\n",
        "| QVVJCYQJUG | 8 Oct 12:00PM | 92604867 | SeventhExpo2025 |\n",
        "| 7QAU3G7244 | 8 Oct 10:00AM | 21032676 | SeventhExpo2025 |\n",
        "\n"
      ],
      "metadata": {
        "id": "Sb9rbNKs1xbx"
      }
    },
    {
      "cell_type": "code",
      "execution_count": null,
      "metadata": {
        "collapsed": true,
        "id": "fjQtpzB6SDE9",
        "colab": {
          "base_uri": "https://localhost:8080/",
          "height": 356
        },
        "outputId": "8499b5f4-2a64-41c7-a908-f3d0cd9ebb36"
      },
      "outputs": [
        {
          "output_type": "error",
          "ename": "KeyboardInterrupt",
          "evalue": "",
          "traceback": [
            "\u001b[0;31m---------------------------------------------------------------------------\u001b[0m",
            "\u001b[0;31mKeyboardInterrupt\u001b[0m                         Traceback (most recent call last)",
            "\u001b[0;32m/tmp/ipython-input-3819027742.py\u001b[0m in \u001b[0;36m<cell line: 0>\u001b[0;34m()\u001b[0m\n\u001b[1;32m      5\u001b[0m \u001b[0mtarget_timeslots\u001b[0m\u001b[0;34m=\u001b[0m\u001b[0;34m[\u001b[0m\u001b[0;34m'9:00'\u001b[0m\u001b[0;34m]\u001b[0m\u001b[0;34m\u001b[0m\u001b[0;34m\u001b[0m\u001b[0m\n\u001b[1;32m      6\u001b[0m \u001b[0;34m\u001b[0m\u001b[0m\n\u001b[0;32m----> 7\u001b[0;31m check_and_change_reservation(\n\u001b[0m\u001b[1;32m      8\u001b[0m     \u001b[0mreservation_id\u001b[0m\u001b[0;34m,\u001b[0m\u001b[0;34m\u001b[0m\u001b[0;34m\u001b[0m\u001b[0m\n\u001b[1;32m      9\u001b[0m     \u001b[0mmonth\u001b[0m\u001b[0;34m,\u001b[0m\u001b[0;34m\u001b[0m\u001b[0;34m\u001b[0m\u001b[0m\n",
            "\u001b[0;32m/tmp/ipython-input-4069639173.py\u001b[0m in \u001b[0;36mcheck_and_change_reservation\u001b[0;34m(reservation_id, month, cookies, cookies_check_vacancies, target_dates, target_timeslots, run_time)\u001b[0m\n\u001b[1;32m     13\u001b[0m \u001b[0;34m\u001b[0m\u001b[0m\n\u001b[1;32m     14\u001b[0m     \u001b[0;32mtry\u001b[0m\u001b[0;34m:\u001b[0m\u001b[0;34m\u001b[0m\u001b[0;34m\u001b[0m\u001b[0m\n\u001b[0;32m---> 15\u001b[0;31m       \u001b[0mpayloads\u001b[0m \u001b[0;34m=\u001b[0m \u001b[0mget_vacancies_list_with_reservation_ids\u001b[0m\u001b[0;34m(\u001b[0m\u001b[0mreservation_id\u001b[0m\u001b[0;34m,\u001b[0m \u001b[0mmonth\u001b[0m\u001b[0;34m,\u001b[0m \u001b[0mcookies_check_vacancies\u001b[0m\u001b[0;34m,\u001b[0m \u001b[0mtarget_dates\u001b[0m\u001b[0;34m=\u001b[0m\u001b[0mtarget_dates\u001b[0m\u001b[0;34m,\u001b[0m \u001b[0mtarget_timeslots\u001b[0m\u001b[0;34m=\u001b[0m\u001b[0mtarget_timeslots\u001b[0m\u001b[0;34m)\u001b[0m\u001b[0;34m\u001b[0m\u001b[0;34m\u001b[0m\u001b[0m\n\u001b[0m\u001b[1;32m     16\u001b[0m       \u001b[0mget_vacancies_error\u001b[0m \u001b[0;34m=\u001b[0m \u001b[0;36m0\u001b[0m\u001b[0;34m\u001b[0m\u001b[0;34m\u001b[0m\u001b[0m\n\u001b[1;32m     17\u001b[0m     \u001b[0;32mexcept\u001b[0m \u001b[0mValueError\u001b[0m\u001b[0;34m:\u001b[0m\u001b[0;34m\u001b[0m\u001b[0;34m\u001b[0m\u001b[0m\n",
            "\u001b[0;32m/tmp/ipython-input-1587501685.py\u001b[0m in \u001b[0;36mget_vacancies_list_with_reservation_ids\u001b[0;34m(reservation_id, month, cookies, target_dates, target_timeslots)\u001b[0m\n\u001b[1;32m      1\u001b[0m \u001b[0;31m# modified\u001b[0m\u001b[0;34m\u001b[0m\u001b[0;34m\u001b[0m\u001b[0m\n\u001b[1;32m      2\u001b[0m \u001b[0;32mdef\u001b[0m \u001b[0mget_vacancies_list_with_reservation_ids\u001b[0m\u001b[0;34m(\u001b[0m\u001b[0mreservation_id\u001b[0m\u001b[0;34m,\u001b[0m \u001b[0mmonth\u001b[0m\u001b[0;34m,\u001b[0m \u001b[0mcookies\u001b[0m\u001b[0;34m,\u001b[0m \u001b[0mtarget_dates\u001b[0m\u001b[0;34m=\u001b[0m\u001b[0;32mNone\u001b[0m\u001b[0;34m,\u001b[0m \u001b[0mtarget_timeslots\u001b[0m\u001b[0;34m=\u001b[0m\u001b[0;32mNone\u001b[0m\u001b[0;34m)\u001b[0m\u001b[0;34m:\u001b[0m\u001b[0;34m\u001b[0m\u001b[0;34m\u001b[0m\u001b[0m\n\u001b[0;32m----> 3\u001b[0;31m   \u001b[0mschedule\u001b[0m \u001b[0;34m=\u001b[0m \u001b[0mget_schedule\u001b[0m\u001b[0;34m(\u001b[0m\u001b[0mmonth\u001b[0m\u001b[0;34m,\u001b[0m\u001b[0mcookies\u001b[0m\u001b[0;34m)\u001b[0m\u001b[0;34m\u001b[0m\u001b[0;34m\u001b[0m\u001b[0m\n\u001b[0m\u001b[1;32m      4\u001b[0m   \u001b[0;32mif\u001b[0m \u001b[0mschedule\u001b[0m \u001b[0;32mis\u001b[0m \u001b[0;32mnot\u001b[0m \u001b[0;32mNone\u001b[0m\u001b[0;34m:\u001b[0m\u001b[0;34m\u001b[0m\u001b[0;34m\u001b[0m\u001b[0m\n\u001b[1;32m      5\u001b[0m     vacancies = [\n",
            "\u001b[0;32m/tmp/ipython-input-411327915.py\u001b[0m in \u001b[0;36mget_schedule\u001b[0;34m(month, cookies, headers)\u001b[0m\n\u001b[1;32m      1\u001b[0m \u001b[0;32mdef\u001b[0m \u001b[0mget_schedule\u001b[0m\u001b[0;34m(\u001b[0m\u001b[0mmonth\u001b[0m\u001b[0;34m,\u001b[0m \u001b[0mcookies\u001b[0m\u001b[0;34m,\u001b[0m \u001b[0mheaders\u001b[0m\u001b[0;34m=\u001b[0m\u001b[0mheaders\u001b[0m\u001b[0;34m)\u001b[0m\u001b[0;34m:\u001b[0m\u001b[0;34m\u001b[0m\u001b[0;34m\u001b[0m\u001b[0m\n\u001b[1;32m      2\u001b[0m   \u001b[0murl\u001b[0m \u001b[0;34m=\u001b[0m \u001b[0;34mf'https://ticket.expo2025.or.jp/api/d/schedules/2025/{month}'\u001b[0m\u001b[0;34m\u001b[0m\u001b[0;34m\u001b[0m\u001b[0m\n\u001b[0;32m----> 3\u001b[0;31m   \u001b[0mresponse\u001b[0m \u001b[0;34m=\u001b[0m \u001b[0mrequests\u001b[0m\u001b[0;34m.\u001b[0m\u001b[0mget\u001b[0m\u001b[0;34m(\u001b[0m\u001b[0murl\u001b[0m\u001b[0;34m,\u001b[0m \u001b[0mheaders\u001b[0m \u001b[0;34m=\u001b[0m \u001b[0mheaders\u001b[0m\u001b[0;34m,\u001b[0m \u001b[0mcookies\u001b[0m\u001b[0;34m=\u001b[0m\u001b[0mcookies\u001b[0m\u001b[0;34m)\u001b[0m\u001b[0;34m\u001b[0m\u001b[0;34m\u001b[0m\u001b[0m\n\u001b[0m\u001b[1;32m      4\u001b[0m   \u001b[0;32mif\u001b[0m \u001b[0mresponse\u001b[0m\u001b[0;34m.\u001b[0m\u001b[0mstatus_code\u001b[0m \u001b[0;34m==\u001b[0m \u001b[0;36m200\u001b[0m\u001b[0;34m:\u001b[0m\u001b[0;34m\u001b[0m\u001b[0;34m\u001b[0m\u001b[0m\n\u001b[1;32m      5\u001b[0m     \u001b[0mschedule\u001b[0m \u001b[0;34m=\u001b[0m \u001b[0mresponse\u001b[0m\u001b[0;34m.\u001b[0m\u001b[0mjson\u001b[0m\u001b[0;34m(\u001b[0m\u001b[0;34m)\u001b[0m\u001b[0;34m\u001b[0m\u001b[0;34m\u001b[0m\u001b[0m\n",
            "\u001b[0;32m/usr/local/lib/python3.12/dist-packages/requests/api.py\u001b[0m in \u001b[0;36mget\u001b[0;34m(url, params, **kwargs)\u001b[0m\n\u001b[1;32m     71\u001b[0m     \"\"\"\n\u001b[1;32m     72\u001b[0m \u001b[0;34m\u001b[0m\u001b[0m\n\u001b[0;32m---> 73\u001b[0;31m     \u001b[0;32mreturn\u001b[0m \u001b[0mrequest\u001b[0m\u001b[0;34m(\u001b[0m\u001b[0;34m\"get\"\u001b[0m\u001b[0;34m,\u001b[0m \u001b[0murl\u001b[0m\u001b[0;34m,\u001b[0m \u001b[0mparams\u001b[0m\u001b[0;34m=\u001b[0m\u001b[0mparams\u001b[0m\u001b[0;34m,\u001b[0m \u001b[0;34m**\u001b[0m\u001b[0mkwargs\u001b[0m\u001b[0;34m)\u001b[0m\u001b[0;34m\u001b[0m\u001b[0;34m\u001b[0m\u001b[0m\n\u001b[0m\u001b[1;32m     74\u001b[0m \u001b[0;34m\u001b[0m\u001b[0m\n\u001b[1;32m     75\u001b[0m \u001b[0;34m\u001b[0m\u001b[0m\n",
            "\u001b[0;32m/usr/local/lib/python3.12/dist-packages/requests/api.py\u001b[0m in \u001b[0;36mrequest\u001b[0;34m(method, url, **kwargs)\u001b[0m\n\u001b[1;32m     57\u001b[0m     \u001b[0;31m# cases, and look like a memory leak in others.\u001b[0m\u001b[0;34m\u001b[0m\u001b[0;34m\u001b[0m\u001b[0m\n\u001b[1;32m     58\u001b[0m     \u001b[0;32mwith\u001b[0m \u001b[0msessions\u001b[0m\u001b[0;34m.\u001b[0m\u001b[0mSession\u001b[0m\u001b[0;34m(\u001b[0m\u001b[0;34m)\u001b[0m \u001b[0;32mas\u001b[0m \u001b[0msession\u001b[0m\u001b[0;34m:\u001b[0m\u001b[0;34m\u001b[0m\u001b[0;34m\u001b[0m\u001b[0m\n\u001b[0;32m---> 59\u001b[0;31m         \u001b[0;32mreturn\u001b[0m \u001b[0msession\u001b[0m\u001b[0;34m.\u001b[0m\u001b[0mrequest\u001b[0m\u001b[0;34m(\u001b[0m\u001b[0mmethod\u001b[0m\u001b[0;34m=\u001b[0m\u001b[0mmethod\u001b[0m\u001b[0;34m,\u001b[0m \u001b[0murl\u001b[0m\u001b[0;34m=\u001b[0m\u001b[0murl\u001b[0m\u001b[0;34m,\u001b[0m \u001b[0;34m**\u001b[0m\u001b[0mkwargs\u001b[0m\u001b[0;34m)\u001b[0m\u001b[0;34m\u001b[0m\u001b[0;34m\u001b[0m\u001b[0m\n\u001b[0m\u001b[1;32m     60\u001b[0m \u001b[0;34m\u001b[0m\u001b[0m\n\u001b[1;32m     61\u001b[0m \u001b[0;34m\u001b[0m\u001b[0m\n",
            "\u001b[0;32m/usr/local/lib/python3.12/dist-packages/requests/sessions.py\u001b[0m in \u001b[0;36mrequest\u001b[0;34m(self, method, url, params, data, headers, cookies, files, auth, timeout, allow_redirects, proxies, hooks, stream, verify, cert, json)\u001b[0m\n\u001b[1;32m    587\u001b[0m         }\n\u001b[1;32m    588\u001b[0m         \u001b[0msend_kwargs\u001b[0m\u001b[0;34m.\u001b[0m\u001b[0mupdate\u001b[0m\u001b[0;34m(\u001b[0m\u001b[0msettings\u001b[0m\u001b[0;34m)\u001b[0m\u001b[0;34m\u001b[0m\u001b[0;34m\u001b[0m\u001b[0m\n\u001b[0;32m--> 589\u001b[0;31m         \u001b[0mresp\u001b[0m \u001b[0;34m=\u001b[0m \u001b[0mself\u001b[0m\u001b[0;34m.\u001b[0m\u001b[0msend\u001b[0m\u001b[0;34m(\u001b[0m\u001b[0mprep\u001b[0m\u001b[0;34m,\u001b[0m \u001b[0;34m**\u001b[0m\u001b[0msend_kwargs\u001b[0m\u001b[0;34m)\u001b[0m\u001b[0;34m\u001b[0m\u001b[0;34m\u001b[0m\u001b[0m\n\u001b[0m\u001b[1;32m    590\u001b[0m \u001b[0;34m\u001b[0m\u001b[0m\n\u001b[1;32m    591\u001b[0m         \u001b[0;32mreturn\u001b[0m \u001b[0mresp\u001b[0m\u001b[0;34m\u001b[0m\u001b[0;34m\u001b[0m\u001b[0m\n",
            "\u001b[0;32m/usr/local/lib/python3.12/dist-packages/requests/sessions.py\u001b[0m in \u001b[0;36msend\u001b[0;34m(self, request, **kwargs)\u001b[0m\n\u001b[1;32m    701\u001b[0m \u001b[0;34m\u001b[0m\u001b[0m\n\u001b[1;32m    702\u001b[0m         \u001b[0;31m# Send the request\u001b[0m\u001b[0;34m\u001b[0m\u001b[0;34m\u001b[0m\u001b[0m\n\u001b[0;32m--> 703\u001b[0;31m         \u001b[0mr\u001b[0m \u001b[0;34m=\u001b[0m \u001b[0madapter\u001b[0m\u001b[0;34m.\u001b[0m\u001b[0msend\u001b[0m\u001b[0;34m(\u001b[0m\u001b[0mrequest\u001b[0m\u001b[0;34m,\u001b[0m \u001b[0;34m**\u001b[0m\u001b[0mkwargs\u001b[0m\u001b[0;34m)\u001b[0m\u001b[0;34m\u001b[0m\u001b[0;34m\u001b[0m\u001b[0m\n\u001b[0m\u001b[1;32m    704\u001b[0m \u001b[0;34m\u001b[0m\u001b[0m\n\u001b[1;32m    705\u001b[0m         \u001b[0;31m# Total elapsed time of the request (approximately)\u001b[0m\u001b[0;34m\u001b[0m\u001b[0;34m\u001b[0m\u001b[0m\n",
            "\u001b[0;32m/usr/local/lib/python3.12/dist-packages/requests/adapters.py\u001b[0m in \u001b[0;36msend\u001b[0;34m(self, request, stream, timeout, verify, cert, proxies)\u001b[0m\n\u001b[1;32m    665\u001b[0m \u001b[0;34m\u001b[0m\u001b[0m\n\u001b[1;32m    666\u001b[0m         \u001b[0;32mtry\u001b[0m\u001b[0;34m:\u001b[0m\u001b[0;34m\u001b[0m\u001b[0;34m\u001b[0m\u001b[0m\n\u001b[0;32m--> 667\u001b[0;31m             resp = conn.urlopen(\n\u001b[0m\u001b[1;32m    668\u001b[0m                 \u001b[0mmethod\u001b[0m\u001b[0;34m=\u001b[0m\u001b[0mrequest\u001b[0m\u001b[0;34m.\u001b[0m\u001b[0mmethod\u001b[0m\u001b[0;34m,\u001b[0m\u001b[0;34m\u001b[0m\u001b[0;34m\u001b[0m\u001b[0m\n\u001b[1;32m    669\u001b[0m                 \u001b[0murl\u001b[0m\u001b[0;34m=\u001b[0m\u001b[0murl\u001b[0m\u001b[0;34m,\u001b[0m\u001b[0;34m\u001b[0m\u001b[0;34m\u001b[0m\u001b[0m\n",
            "\u001b[0;32m/usr/local/lib/python3.12/dist-packages/urllib3/connectionpool.py\u001b[0m in \u001b[0;36murlopen\u001b[0;34m(self, method, url, body, headers, retries, redirect, assert_same_host, timeout, pool_timeout, release_conn, chunked, body_pos, preload_content, decode_content, **response_kw)\u001b[0m\n\u001b[1;32m    785\u001b[0m \u001b[0;34m\u001b[0m\u001b[0m\n\u001b[1;32m    786\u001b[0m             \u001b[0;31m# Make the request on the HTTPConnection object\u001b[0m\u001b[0;34m\u001b[0m\u001b[0;34m\u001b[0m\u001b[0m\n\u001b[0;32m--> 787\u001b[0;31m             response = self._make_request(\n\u001b[0m\u001b[1;32m    788\u001b[0m                 \u001b[0mconn\u001b[0m\u001b[0;34m,\u001b[0m\u001b[0;34m\u001b[0m\u001b[0;34m\u001b[0m\u001b[0m\n\u001b[1;32m    789\u001b[0m                 \u001b[0mmethod\u001b[0m\u001b[0;34m,\u001b[0m\u001b[0;34m\u001b[0m\u001b[0;34m\u001b[0m\u001b[0m\n",
            "\u001b[0;32m/usr/local/lib/python3.12/dist-packages/urllib3/connectionpool.py\u001b[0m in \u001b[0;36m_make_request\u001b[0;34m(self, conn, method, url, body, headers, retries, timeout, chunked, response_conn, preload_content, decode_content, enforce_content_length)\u001b[0m\n\u001b[1;32m    532\u001b[0m         \u001b[0;31m# Receive the response from the server\u001b[0m\u001b[0;34m\u001b[0m\u001b[0;34m\u001b[0m\u001b[0m\n\u001b[1;32m    533\u001b[0m         \u001b[0;32mtry\u001b[0m\u001b[0;34m:\u001b[0m\u001b[0;34m\u001b[0m\u001b[0;34m\u001b[0m\u001b[0m\n\u001b[0;32m--> 534\u001b[0;31m             \u001b[0mresponse\u001b[0m \u001b[0;34m=\u001b[0m \u001b[0mconn\u001b[0m\u001b[0;34m.\u001b[0m\u001b[0mgetresponse\u001b[0m\u001b[0;34m(\u001b[0m\u001b[0;34m)\u001b[0m\u001b[0;34m\u001b[0m\u001b[0;34m\u001b[0m\u001b[0m\n\u001b[0m\u001b[1;32m    535\u001b[0m         \u001b[0;32mexcept\u001b[0m \u001b[0;34m(\u001b[0m\u001b[0mBaseSSLError\u001b[0m\u001b[0;34m,\u001b[0m \u001b[0mOSError\u001b[0m\u001b[0;34m)\u001b[0m \u001b[0;32mas\u001b[0m \u001b[0me\u001b[0m\u001b[0;34m:\u001b[0m\u001b[0;34m\u001b[0m\u001b[0;34m\u001b[0m\u001b[0m\n\u001b[1;32m    536\u001b[0m             \u001b[0mself\u001b[0m\u001b[0;34m.\u001b[0m\u001b[0m_raise_timeout\u001b[0m\u001b[0;34m(\u001b[0m\u001b[0merr\u001b[0m\u001b[0;34m=\u001b[0m\u001b[0me\u001b[0m\u001b[0;34m,\u001b[0m \u001b[0murl\u001b[0m\u001b[0;34m=\u001b[0m\u001b[0murl\u001b[0m\u001b[0;34m,\u001b[0m \u001b[0mtimeout_value\u001b[0m\u001b[0;34m=\u001b[0m\u001b[0mread_timeout\u001b[0m\u001b[0;34m)\u001b[0m\u001b[0;34m\u001b[0m\u001b[0;34m\u001b[0m\u001b[0m\n",
            "\u001b[0;32m/usr/local/lib/python3.12/dist-packages/urllib3/connection.py\u001b[0m in \u001b[0;36mgetresponse\u001b[0;34m(self)\u001b[0m\n\u001b[1;32m    563\u001b[0m \u001b[0;34m\u001b[0m\u001b[0m\n\u001b[1;32m    564\u001b[0m         \u001b[0;31m# Get the response from http.client.HTTPConnection\u001b[0m\u001b[0;34m\u001b[0m\u001b[0;34m\u001b[0m\u001b[0m\n\u001b[0;32m--> 565\u001b[0;31m         \u001b[0mhttplib_response\u001b[0m \u001b[0;34m=\u001b[0m \u001b[0msuper\u001b[0m\u001b[0;34m(\u001b[0m\u001b[0;34m)\u001b[0m\u001b[0;34m.\u001b[0m\u001b[0mgetresponse\u001b[0m\u001b[0;34m(\u001b[0m\u001b[0;34m)\u001b[0m\u001b[0;34m\u001b[0m\u001b[0;34m\u001b[0m\u001b[0m\n\u001b[0m\u001b[1;32m    566\u001b[0m \u001b[0;34m\u001b[0m\u001b[0m\n\u001b[1;32m    567\u001b[0m         \u001b[0;32mtry\u001b[0m\u001b[0;34m:\u001b[0m\u001b[0;34m\u001b[0m\u001b[0;34m\u001b[0m\u001b[0m\n",
            "\u001b[0;32m/usr/lib/python3.12/http/client.py\u001b[0m in \u001b[0;36mgetresponse\u001b[0;34m(self)\u001b[0m\n\u001b[1;32m   1428\u001b[0m         \u001b[0;32mtry\u001b[0m\u001b[0;34m:\u001b[0m\u001b[0;34m\u001b[0m\u001b[0;34m\u001b[0m\u001b[0m\n\u001b[1;32m   1429\u001b[0m             \u001b[0;32mtry\u001b[0m\u001b[0;34m:\u001b[0m\u001b[0;34m\u001b[0m\u001b[0;34m\u001b[0m\u001b[0m\n\u001b[0;32m-> 1430\u001b[0;31m                 \u001b[0mresponse\u001b[0m\u001b[0;34m.\u001b[0m\u001b[0mbegin\u001b[0m\u001b[0;34m(\u001b[0m\u001b[0;34m)\u001b[0m\u001b[0;34m\u001b[0m\u001b[0;34m\u001b[0m\u001b[0m\n\u001b[0m\u001b[1;32m   1431\u001b[0m             \u001b[0;32mexcept\u001b[0m \u001b[0mConnectionError\u001b[0m\u001b[0;34m:\u001b[0m\u001b[0;34m\u001b[0m\u001b[0;34m\u001b[0m\u001b[0m\n\u001b[1;32m   1432\u001b[0m                 \u001b[0mself\u001b[0m\u001b[0;34m.\u001b[0m\u001b[0mclose\u001b[0m\u001b[0;34m(\u001b[0m\u001b[0;34m)\u001b[0m\u001b[0;34m\u001b[0m\u001b[0;34m\u001b[0m\u001b[0m\n",
            "\u001b[0;32m/usr/lib/python3.12/http/client.py\u001b[0m in \u001b[0;36mbegin\u001b[0;34m(self)\u001b[0m\n\u001b[1;32m    329\u001b[0m         \u001b[0;31m# read until we get a non-100 response\u001b[0m\u001b[0;34m\u001b[0m\u001b[0;34m\u001b[0m\u001b[0m\n\u001b[1;32m    330\u001b[0m         \u001b[0;32mwhile\u001b[0m \u001b[0;32mTrue\u001b[0m\u001b[0;34m:\u001b[0m\u001b[0;34m\u001b[0m\u001b[0;34m\u001b[0m\u001b[0m\n\u001b[0;32m--> 331\u001b[0;31m             \u001b[0mversion\u001b[0m\u001b[0;34m,\u001b[0m \u001b[0mstatus\u001b[0m\u001b[0;34m,\u001b[0m \u001b[0mreason\u001b[0m \u001b[0;34m=\u001b[0m \u001b[0mself\u001b[0m\u001b[0;34m.\u001b[0m\u001b[0m_read_status\u001b[0m\u001b[0;34m(\u001b[0m\u001b[0;34m)\u001b[0m\u001b[0;34m\u001b[0m\u001b[0;34m\u001b[0m\u001b[0m\n\u001b[0m\u001b[1;32m    332\u001b[0m             \u001b[0;32mif\u001b[0m \u001b[0mstatus\u001b[0m \u001b[0;34m!=\u001b[0m \u001b[0mCONTINUE\u001b[0m\u001b[0;34m:\u001b[0m\u001b[0;34m\u001b[0m\u001b[0;34m\u001b[0m\u001b[0m\n\u001b[1;32m    333\u001b[0m                 \u001b[0;32mbreak\u001b[0m\u001b[0;34m\u001b[0m\u001b[0;34m\u001b[0m\u001b[0m\n",
            "\u001b[0;32m/usr/lib/python3.12/http/client.py\u001b[0m in \u001b[0;36m_read_status\u001b[0;34m(self)\u001b[0m\n\u001b[1;32m    290\u001b[0m \u001b[0;34m\u001b[0m\u001b[0m\n\u001b[1;32m    291\u001b[0m     \u001b[0;32mdef\u001b[0m \u001b[0m_read_status\u001b[0m\u001b[0;34m(\u001b[0m\u001b[0mself\u001b[0m\u001b[0;34m)\u001b[0m\u001b[0;34m:\u001b[0m\u001b[0;34m\u001b[0m\u001b[0;34m\u001b[0m\u001b[0m\n\u001b[0;32m--> 292\u001b[0;31m         \u001b[0mline\u001b[0m \u001b[0;34m=\u001b[0m \u001b[0mstr\u001b[0m\u001b[0;34m(\u001b[0m\u001b[0mself\u001b[0m\u001b[0;34m.\u001b[0m\u001b[0mfp\u001b[0m\u001b[0;34m.\u001b[0m\u001b[0mreadline\u001b[0m\u001b[0;34m(\u001b[0m\u001b[0m_MAXLINE\u001b[0m \u001b[0;34m+\u001b[0m \u001b[0;36m1\u001b[0m\u001b[0;34m)\u001b[0m\u001b[0;34m,\u001b[0m \u001b[0;34m\"iso-8859-1\"\u001b[0m\u001b[0;34m)\u001b[0m\u001b[0;34m\u001b[0m\u001b[0;34m\u001b[0m\u001b[0m\n\u001b[0m\u001b[1;32m    293\u001b[0m         \u001b[0;32mif\u001b[0m \u001b[0mlen\u001b[0m\u001b[0;34m(\u001b[0m\u001b[0mline\u001b[0m\u001b[0;34m)\u001b[0m \u001b[0;34m>\u001b[0m \u001b[0m_MAXLINE\u001b[0m\u001b[0;34m:\u001b[0m\u001b[0;34m\u001b[0m\u001b[0;34m\u001b[0m\u001b[0m\n\u001b[1;32m    294\u001b[0m             \u001b[0;32mraise\u001b[0m \u001b[0mLineTooLong\u001b[0m\u001b[0;34m(\u001b[0m\u001b[0;34m\"status line\"\u001b[0m\u001b[0;34m)\u001b[0m\u001b[0;34m\u001b[0m\u001b[0;34m\u001b[0m\u001b[0m\n",
            "\u001b[0;32m/usr/lib/python3.12/socket.py\u001b[0m in \u001b[0;36mreadinto\u001b[0;34m(self, b)\u001b[0m\n\u001b[1;32m    718\u001b[0m         \u001b[0;32mwhile\u001b[0m \u001b[0;32mTrue\u001b[0m\u001b[0;34m:\u001b[0m\u001b[0;34m\u001b[0m\u001b[0;34m\u001b[0m\u001b[0m\n\u001b[1;32m    719\u001b[0m             \u001b[0;32mtry\u001b[0m\u001b[0;34m:\u001b[0m\u001b[0;34m\u001b[0m\u001b[0;34m\u001b[0m\u001b[0m\n\u001b[0;32m--> 720\u001b[0;31m                 \u001b[0;32mreturn\u001b[0m \u001b[0mself\u001b[0m\u001b[0;34m.\u001b[0m\u001b[0m_sock\u001b[0m\u001b[0;34m.\u001b[0m\u001b[0mrecv_into\u001b[0m\u001b[0;34m(\u001b[0m\u001b[0mb\u001b[0m\u001b[0;34m)\u001b[0m\u001b[0;34m\u001b[0m\u001b[0;34m\u001b[0m\u001b[0m\n\u001b[0m\u001b[1;32m    721\u001b[0m             \u001b[0;32mexcept\u001b[0m \u001b[0mtimeout\u001b[0m\u001b[0;34m:\u001b[0m\u001b[0;34m\u001b[0m\u001b[0;34m\u001b[0m\u001b[0m\n\u001b[1;32m    722\u001b[0m                 \u001b[0mself\u001b[0m\u001b[0;34m.\u001b[0m\u001b[0m_timeout_occurred\u001b[0m \u001b[0;34m=\u001b[0m \u001b[0;32mTrue\u001b[0m\u001b[0;34m\u001b[0m\u001b[0;34m\u001b[0m\u001b[0m\n",
            "\u001b[0;32m/usr/lib/python3.12/ssl.py\u001b[0m in \u001b[0;36mrecv_into\u001b[0;34m(self, buffer, nbytes, flags)\u001b[0m\n\u001b[1;32m   1249\u001b[0m                   \u001b[0;34m\"non-zero flags not allowed in calls to recv_into() on %s\"\u001b[0m \u001b[0;34m%\u001b[0m\u001b[0;34m\u001b[0m\u001b[0;34m\u001b[0m\u001b[0m\n\u001b[1;32m   1250\u001b[0m                   self.__class__)\n\u001b[0;32m-> 1251\u001b[0;31m             \u001b[0;32mreturn\u001b[0m \u001b[0mself\u001b[0m\u001b[0;34m.\u001b[0m\u001b[0mread\u001b[0m\u001b[0;34m(\u001b[0m\u001b[0mnbytes\u001b[0m\u001b[0;34m,\u001b[0m \u001b[0mbuffer\u001b[0m\u001b[0;34m)\u001b[0m\u001b[0;34m\u001b[0m\u001b[0;34m\u001b[0m\u001b[0m\n\u001b[0m\u001b[1;32m   1252\u001b[0m         \u001b[0;32melse\u001b[0m\u001b[0;34m:\u001b[0m\u001b[0;34m\u001b[0m\u001b[0;34m\u001b[0m\u001b[0m\n\u001b[1;32m   1253\u001b[0m             \u001b[0;32mreturn\u001b[0m \u001b[0msuper\u001b[0m\u001b[0;34m(\u001b[0m\u001b[0;34m)\u001b[0m\u001b[0;34m.\u001b[0m\u001b[0mrecv_into\u001b[0m\u001b[0;34m(\u001b[0m\u001b[0mbuffer\u001b[0m\u001b[0;34m,\u001b[0m \u001b[0mnbytes\u001b[0m\u001b[0;34m,\u001b[0m \u001b[0mflags\u001b[0m\u001b[0;34m)\u001b[0m\u001b[0;34m\u001b[0m\u001b[0;34m\u001b[0m\u001b[0m\n",
            "\u001b[0;32m/usr/lib/python3.12/ssl.py\u001b[0m in \u001b[0;36mread\u001b[0;34m(self, len, buffer)\u001b[0m\n\u001b[1;32m   1101\u001b[0m         \u001b[0;32mtry\u001b[0m\u001b[0;34m:\u001b[0m\u001b[0;34m\u001b[0m\u001b[0;34m\u001b[0m\u001b[0m\n\u001b[1;32m   1102\u001b[0m             \u001b[0;32mif\u001b[0m \u001b[0mbuffer\u001b[0m \u001b[0;32mis\u001b[0m \u001b[0;32mnot\u001b[0m \u001b[0;32mNone\u001b[0m\u001b[0;34m:\u001b[0m\u001b[0;34m\u001b[0m\u001b[0;34m\u001b[0m\u001b[0m\n\u001b[0;32m-> 1103\u001b[0;31m                 \u001b[0;32mreturn\u001b[0m \u001b[0mself\u001b[0m\u001b[0;34m.\u001b[0m\u001b[0m_sslobj\u001b[0m\u001b[0;34m.\u001b[0m\u001b[0mread\u001b[0m\u001b[0;34m(\u001b[0m\u001b[0mlen\u001b[0m\u001b[0;34m,\u001b[0m \u001b[0mbuffer\u001b[0m\u001b[0;34m)\u001b[0m\u001b[0;34m\u001b[0m\u001b[0;34m\u001b[0m\u001b[0m\n\u001b[0m\u001b[1;32m   1104\u001b[0m             \u001b[0;32melse\u001b[0m\u001b[0;34m:\u001b[0m\u001b[0;34m\u001b[0m\u001b[0;34m\u001b[0m\u001b[0m\n\u001b[1;32m   1105\u001b[0m                 \u001b[0;32mreturn\u001b[0m \u001b[0mself\u001b[0m\u001b[0;34m.\u001b[0m\u001b[0m_sslobj\u001b[0m\u001b[0;34m.\u001b[0m\u001b[0mread\u001b[0m\u001b[0;34m(\u001b[0m\u001b[0mlen\u001b[0m\u001b[0;34m)\u001b[0m\u001b[0;34m\u001b[0m\u001b[0;34m\u001b[0m\u001b[0m\n",
            "\u001b[0;31mKeyboardInterrupt\u001b[0m: "
          ]
        }
      ],
      "source": [
        "ticket_ids = [\"QVVJCYQJUG\"]\n",
        "reservation_id = [92604867]\n",
        "month = 10\n",
        "target_dates=['08']\n",
        "target_timeslots=['9:00']\n",
        "\n",
        "check_and_change_reservation(\n",
        "    reservation_id,\n",
        "    month,\n",
        "    cookies,\n",
        "    cookies_check_vacancies,\n",
        "    target_dates=target_dates,\n",
        "    target_timeslots=target_timeslots,\n",
        "    run_time = 135\n",
        "    )"
      ]
    }
  ],
  "metadata": {
    "colab": {
      "collapsed_sections": [
        "9aM1KjzY9JbQ"
      ],
      "provenance": []
    },
    "kernelspec": {
      "display_name": "Python 3",
      "name": "python3"
    },
    "language_info": {
      "name": "python"
    }
  },
  "nbformat": 4,
  "nbformat_minor": 0
}